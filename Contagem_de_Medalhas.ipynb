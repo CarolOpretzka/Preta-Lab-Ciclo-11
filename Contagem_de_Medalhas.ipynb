{
  "nbformat": 4,
  "nbformat_minor": 0,
  "metadata": {
    "colab": {
      "provenance": [],
      "authorship_tag": "ABX9TyP33Tx1BQXbuCBeDJzGZCik",
      "include_colab_link": true
    },
    "kernelspec": {
      "name": "python3",
      "display_name": "Python 3"
    },
    "language_info": {
      "name": "python"
    }
  },
  "cells": [
    {
      "cell_type": "markdown",
      "metadata": {
        "id": "view-in-github",
        "colab_type": "text"
      },
      "source": [
        "<a href=\"https://colab.research.google.com/github/CarolOpretzka/Preta-Lab-Ciclo-11/blob/main/Contagem_de_Medalhas.ipynb\" target=\"_parent\"><img src=\"https://colab.research.google.com/assets/colab-badge.svg\" alt=\"Open In Colab\"/></a>"
      ]
    },
    {
      "cell_type": "markdown",
      "source": [
        "Contagem de Medalhas"
      ],
      "metadata": {
        "id": "0K3J7Wy7wimB"
      }
    },
    {
      "cell_type": "code",
      "source": [
        "#criar uma biblioteca para arquivar os dados dos país e total de medalhas\n",
        "medalhas = {}\n",
        "\n",
        "#receber dados do usuário\n",
        "pais = input(\"Digite o nome do país ou 'sair' para finalizar.\")\n",
        "\n",
        "#criar um loop para calcular o total de medalhas\n",
        "while pais != \"sair\":\n",
        "  #receber a quantidade de medalhas de ouro, prata e bronze do país\n",
        "  ouro = int(input(\"Digite o número de medalhas de ouro: \"))\n",
        "  prata = int(input(\"Digite o número de medalhas de prata: \"))\n",
        "  bronze = int(input(\"Digite o número de medalhas de bronze: \"))\n",
        "\n",
        "  #calcular a soma das melhadas:\n",
        "  total = ouro + prata + bronze\n",
        "  #armazenar os dados na biblioteca\n",
        "  medalhas[pais] = total\n",
        "\n",
        "  #receber os dados de um novo país\n",
        "  pais = input(\"Digite o nome do país ou 'sair' para finalizar.\")\n",
        "\n",
        "#exibir os resultados do ranking\n",
        "print(\"Ranking de medalhas:\")\n",
        "\n",
        "#Apresentar os dados de todos os países na biblioteca:\n",
        "for pais, total in medalhas.items():\n",
        "  print(f\"{pais}: {total} medalhas\")\n"
      ],
      "metadata": {
        "colab": {
          "base_uri": "https://localhost:8080/"
        },
        "id": "H-i7s8GV80CQ",
        "outputId": "af2d5ae5-9110-4ee5-d590-da604b91f9c8"
      },
      "execution_count": 31,
      "outputs": [
        {
          "output_type": "stream",
          "name": "stdout",
          "text": [
            "Digite o nome do país ou 'sair' para finalizar.Braisl\n",
            "Digite o número de medalhas de ouro: 51\n",
            "Digite o número de medalhas de prata: 10\n",
            "Digite o número de medalhas de bronze: 4\n",
            "Digite o nome do país ou 'sair' para finalizar.Germ\n",
            "Digite o número de medalhas de ouro: 8\n",
            "Digite o número de medalhas de prata: 4\n",
            "Digite o número de medalhas de bronze: 6\n",
            "Digite o nome do país ou 'sair' para finalizar.grg\n",
            "Digite o número de medalhas de ouro: 4\n",
            "Digite o número de medalhas de prata: 5\n",
            "Digite o número de medalhas de bronze: 0\n",
            "Digite o nome do país ou 'sair' para finalizar.sair\n",
            "Ranking de medalhas:\n",
            "Braisl: 65 medalhas\n",
            "Germ: 18 medalhas\n",
            "grg: 9 medalhas\n"
          ]
        }
      ]
    }
  ]
}