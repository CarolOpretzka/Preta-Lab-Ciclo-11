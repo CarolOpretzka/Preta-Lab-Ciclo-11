{
  "nbformat": 4,
  "nbformat_minor": 0,
  "metadata": {
    "colab": {
      "provenance": [],
      "authorship_tag": "ABX9TyMA7AwQEG/pIOIy8K0qtIBI",
      "include_colab_link": true
    },
    "kernelspec": {
      "name": "python3",
      "display_name": "Python 3"
    },
    "language_info": {
      "name": "python"
    }
  },
  "cells": [
    {
      "cell_type": "markdown",
      "metadata": {
        "id": "view-in-github",
        "colab_type": "text"
      },
      "source": [
        "<a href=\"https://colab.research.google.com/github/CarolOpretzka/Preta-Lab-Ciclo-11/blob/main/Contagem_de_Medalhas.ipynb\" target=\"_parent\"><img src=\"https://colab.research.google.com/assets/colab-badge.svg\" alt=\"Open In Colab\"/></a>"
      ]
    },
    {
      "cell_type": "markdown",
      "source": [
        "Contagem de Medalhas"
      ],
      "metadata": {
        "id": "0K3J7Wy7wimB"
      }
    },
    {
      "cell_type": "code",
      "source": [
        "#criar uma biblioteca para arquivar os dados dos país e total de medalhas\n",
        "medalhas = {}\n",
        "\n",
        "#receber dados do usuário\n",
        "pais = input(\"Digite o nome do país ou 'sair' para finalizar.\")\n",
        "\n",
        "#criar um loop para calcular o total de medalhas\n",
        "while pais != \"sair\":\n",
        "  #receber a quantidade de medalhas de ouro, prata e bronze do país\n",
        "  ouro = int(input(\"Digite o número de medalhas de ouro: \"))\n",
        "  prata = int(input(\"Digite o número de medalhas de prata: \"))\n",
        "  bronze = int(input(\"Digite o número de medalhas de bronze: \"))\n",
        "\n",
        "  #calcular a soma das melhadas:\n",
        "  total = ouro + prata + bronze\n",
        "  #armazenar os dados na biblioteca\n",
        "  medalhas[pais] = total\n",
        "\n",
        "  #receber os dados de um novo país\n",
        "  pais = input(\"Digite o nome do país ou 'sair' para finalizar.\")\n",
        "\n",
        "#exibir os resultados do ranking\n",
        "print(\"Ranking de medalhas:\")\n",
        "\n",
        "#Apresentar os dados de todos os países na biblioteca:\n",
        "for pais, total in medalhas.items():\n",
        "  print(f\" {pais} teve o total de {total} medalhas\")\n"
      ],
      "metadata": {
        "colab": {
          "base_uri": "https://localhost:8080/"
        },
        "id": "H-i7s8GV80CQ",
        "outputId": "c861111e-6264-4117-e790-acba7e342a5e"
      },
      "execution_count": 33,
      "outputs": [
        {
          "output_type": "stream",
          "name": "stdout",
          "text": [
            "Digite o nome do país ou 'sair' para finalizar.Nigéria\n",
            "Digite o número de medalhas de ouro: 8\n",
            "Digite o número de medalhas de prata: 7\n",
            "Digite o número de medalhas de bronze: 9\n",
            "Digite o nome do país ou 'sair' para finalizar.Moçambique\n",
            "Digite o número de medalhas de ouro: 8\n",
            "Digite o número de medalhas de prata: 4\n",
            "Digite o número de medalhas de bronze: 1\n",
            "Digite o nome do país ou 'sair' para finalizar.Brasil\n",
            "Digite o número de medalhas de ouro: 5\n",
            "Digite o número de medalhas de prata: 4\n",
            "Digite o número de medalhas de bronze: 3\n",
            "Digite o nome do país ou 'sair' para finalizar.sair\n",
            "Ranking de medalhas:\n",
            " Nigéria teve o total de 24 medalhas\n",
            " Moçambique teve o total de 13 medalhas\n",
            " Brasil teve o total de 12 medalhas\n"
          ]
        }
      ]
    }
  ]
}